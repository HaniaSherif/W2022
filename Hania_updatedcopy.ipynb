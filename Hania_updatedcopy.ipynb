{
  "nbformat": 4,
  "nbformat_minor": 0,
  "metadata": {
    "colab": {
      "provenance": [],
      "include_colab_link": true
    },
    "kernelspec": {
      "name": "python3",
      "display_name": "Python 3"
    },
    "language_info": {
      "name": "python"
    }
  },
  "cells": [
    {
      "cell_type": "markdown",
      "metadata": {
        "id": "view-in-github",
        "colab_type": "text"
      },
      "source": [
        "<a href=\"https://colab.research.google.com/github/HaniaSherif/W2022/blob/main/Hania_updatedcopy.ipynb\" target=\"_parent\"><img src=\"https://colab.research.google.com/assets/colab-badge.svg\" alt=\"Open In Colab\"/></a>"
      ]
    },
    {
      "cell_type": "code",
      "execution_count": null,
      "metadata": {
        "id": "zhNwcIrj52mo"
      },
      "outputs": [],
      "source": [
        "# The client sent to the server RB\n",
        "# I support (TLS,RSA,AES128, SHA256) or (SSL,RSA,3DES,MD5) OR ....\n",
        "import random\n",
        "RB=(random.getrandbits(256))\n",
        "print('The RB that is sent from the clent to the server is:', RB)"
      ]
    },
    {
      "cell_type": "code",
      "source": [
        "# The sever sent to the client RS\n",
        "#Okay lets use (TLS,RSA,AES128, SHA256)\n",
        "import random\n",
        "RS=(random.getrandbits(256))\n",
        "print('The RS that is sent from the serevr to the client as a respond is:',RS)"
      ],
      "metadata": {
        "id": "HEebl97e68ND"
      },
      "execution_count": null,
      "outputs": []
    },
    {
      "cell_type": "code",
      "source": [
        "#Server responds with the flag of 1 or 0 which indicates if RSA or Diffie-Helman is going to be used\n",
        "Flag=(random.getrandbits(1))\n",
        "print (Flag)\n",
        "print ('If 1 is printed, use RSA, but if 0 is printed use Diffie-Helman')\n",
        "# Flag=0 Diffie-Hellman will be used\n",
        "# Flag=1 RSA will be used"
      ],
      "metadata": {
        "id": "UEww4UiKNGZl"
      },
      "execution_count": null,
      "outputs": []
    },
    {
      "cell_type": "code",
      "source": [
        "!pip install pycryptodomex"
      ],
      "metadata": {
        "id": "-I8fmiNtpId0"
      },
      "execution_count": null,
      "outputs": []
    },
    {
      "cell_type": "code",
      "source": [
        "!pip3 install pycryptodome"
      ],
      "metadata": {
        "id": "INzVBoRUQpvG"
      },
      "execution_count": null,
      "outputs": []
    },
    {
      "cell_type": "code",
      "source": [
        "import Crypto"
      ],
      "metadata": {
        "id": "odImpuDogsT5"
      },
      "execution_count": null,
      "outputs": []
    },
    {
      "cell_type": "code",
      "source": [
        "#Generating public and private key\n",
        "from Crypto.PublicKey import RSA\n",
        "key_pair = RSA.generate(1024)\n",
        "public_key_server = key_pair.publickey().exportKey()\n",
        "private_key = key_pair.exportKey()\n",
        "print(\"This is the public key of the server:\", public_key_server)\n",
        "print(\"This is the private key of the server:\", private_key)\n",
        "print(\"\\n----------\\n\")\n",
        "\n",
        "\n",
        "import hashlib\n",
        "#Hash the keys\n",
        "import hashlib\n",
        "hashed_public_key = hashlib.sha256(public_key_server).hexdigest()\n",
        "#GENERATE CERTIFICATE PAIR\n",
        "Certificate = (public_key_server, hashed_public_key)\n",
        "print(\"This hashed key is:\", hashed_public_key)\n",
        "print(\"\\n----------\\n\")\n",
        "#For the client to rehash the public key\n",
        "rehashed_public_key = hashlib.sha256(public_key_server).hexdigest()\n",
        "print(\"The key after it has been rehashed is:\", rehashed_public_key)\n",
        "print(\"\\n----------\\n\")\n"
      ],
      "metadata": {
        "id": "4Hf2q2aGVMFH"
      },
      "execution_count": null,
      "outputs": []
    },
    {
      "cell_type": "code",
      "source": [
        "!pip install rsa"
      ],
      "metadata": {
        "id": "DjZRezlYFZTC"
      },
      "execution_count": null,
      "outputs": []
    },
    {
      "cell_type": "code",
      "source": [
        "import rsa"
      ],
      "metadata": {
        "id": "iZnlok_aFb4J"
      },
      "execution_count": null,
      "outputs": []
    },
    {
      "cell_type": "code",
      "source": [
        "#Check if they are equal after rehashing \n",
        "if (hashed_public_key == rehashed_public_key):\n",
        "  if(Flag==1):\n",
        "  #For RSA ,browser constructs \"Premaster secret key\" PS\n",
        "   import random\n",
        "   PS=(random.getrandbits(256))\n",
        "   print(PS)\n",
        "\n",
        "   #ENCRYPT the data using the public key of the server\n",
        "   #from Cryptodome.Cipher import PKCS1_OAEP\n",
        "\n",
        "   #public_key_server = RSA.import_key(public_key_server)\n",
        "   #cipher = PKCS1_OAEP.new(public_key_server)\n",
        "   #ciphertext = cipher.encrypt(len(PS))\n",
        "   #print(ciphertext)\n",
        "   #print(\"\\n\\n\")\n",
        "   def encrypt (PS,public_key_server):\n",
        "    encrypted_data=rsa.encrypt(PS.encode(), public_key_server)\n",
        "    return encrypted_data\n",
        "    #Diffie-Helman is goint to be used\n",
        "  else:\n",
        "    from random import random\n",
        "    import sys\n",
        "    import hashlib\n",
        "    #Public keys G & P\n",
        "    g=9\n",
        "    p=23\n",
        "    import random\n",
        "    a=(random.getrandbits(256))\n",
        "    #Client generates random b\n",
        "    b=(random.getrandbits(256))\n",
        "    A = (g**a) % p\n",
        "    B = (g**b) % p\n",
        "    print('g: ',g,' (a shared value), n: ',p, ' (a prime number)')\n",
        "    print('\\nAlice calculates:')\n",
        "    print('a (Alice random): ',a)\n",
        "    print('Alice value (A): ',A,' (g^a) mod p')\n",
        "    print('\\nBob calculates:')\n",
        "    print('b (Bob random): ',b)\n",
        "    print('Bob value (B): ',B,' (g^b) mod p')\n",
        "\n",
        "    print('\\nAlice calculates:')\n",
        "    keyA=(B**a) % p\n",
        "    print('Key: ',keyA,' (B^a) mod p')\n",
        "    print('Key: ',hashlib.sha256(str(keyA).encode()).hexdigest())\n",
        "\n",
        "    print('\\nBob calculates:')\n",
        "    keyB=(A**b) % p\n",
        "    print('Key: ',keyB,' (A^b) mod p')\n",
        "    print('Key: ',hashlib.sha256(str(keyB).encode()).hexdigest())\n",
        "\n",
        "    #The server send (g,p,g^a mod p) digitaly signed with the private key of the server\n",
        "    def encrypt_using_diffie_helman (g,p,A,private_key_server):\n",
        "      encrypted_data_diffie_helman=rsa.encrypt_using_diffie_helman (g,p,A,private_key_server.encode(), private_key)\n",
        "      return encrypted_data_diffie_helman\n",
        "      print (encrypted_data_diffie_helman)\n",
        "    #Client sends its PS to the server using a random number b \n",
        "    PS=B\n",
        "    print ('The PS is:', B)\n",
        "     \n",
        "     \n",
        "    \n",
        "else:\n",
        "  print('The message was edited')"
      ],
      "metadata": {
        "id": "vWidwfGbOfPz"
      },
      "execution_count": null,
      "outputs": []
    },
    {
      "cell_type": "code",
      "source": [
        "!pip install rsa"
      ],
      "metadata": {
        "id": "K9Q9HQA6T9eH"
      },
      "execution_count": null,
      "outputs": []
    },
    {
      "cell_type": "code",
      "source": [
        "import rsa"
      ],
      "metadata": {
        "id": "Os6WPggSUAS1"
      },
      "execution_count": null,
      "outputs": []
    },
    {
      "cell_type": "code",
      "source": [
        "#The decryption of the key\n",
        "def decrypt(encrypted_data, private_key):\n",
        "    try:\n",
        "        return rsa.decrypt(encrypted_data, private_key).decode('ascii')\n",
        "    except:\n",
        "        return False\n",
        "#Server_private_key = RSA.import_key(private_key)\n",
        "#cipher = PKCS1_OAEP.new(Server_private_key)\n",
        "#plaintext = cipher.decrypt(ciphertext)\n",
        "#print (plaintext)"
      ],
      "metadata": {
        "id": "KvSqcyXzq_uT"
      },
      "execution_count": null,
      "outputs": []
    },
    {
      "cell_type": "code",
      "source": [
        "#Creating an integer from the PS, RB, RS to be inserted into a psuedo random generator\n",
        "string_RB=str(RB)\n",
        "string_RS=str(RS)\n",
        "string_PS=str(PS)\n",
        "print(string_RB, string_RS, string_PS)\n",
        "var1 = string_RB\n",
        "var2 = string_RS\n",
        "var3 = string_PS\n",
        "\n",
        "# print the result\n",
        "concatination=var1+var2+var3\n",
        "\n",
        "int(concatination)\n",
        "\n",
        "\n",
        "chosen_num=random.choice(concatination)\n",
        "print(chosen_num)\n"
      ],
      "metadata": {
        "id": "3ZV-wkrO4J2S"
      },
      "execution_count": null,
      "outputs": []
    },
    {
      "cell_type": "code",
      "source": [
        "#Generating 4 communication keys {CC, IC, CS, IS} for client\n",
        "import random\n",
        "from datetime import datetime\n",
        "import numpy as np\n",
        "\n",
        "# Passing the current time as the seed value\n",
        "random.seed(datetime.now())\n",
        "\n",
        "array_of_keys=[]\n",
        "for  i in range(4):\n",
        "  array_of_keys.append(random.randint(0, 10))\n",
        "print(array_of_keys)\n",
        "\n",
        "\n",
        "\n",
        "\n",
        "#print(random.randint(0, 10), end=\"\\t\")"
      ],
      "metadata": {
        "id": "AIKrWITnDHPl"
      },
      "execution_count": null,
      "outputs": []
    },
    {
      "cell_type": "code",
      "source": [
        "#Take the {CC, IC, CS, IS} and convert them into a string to be hashed for the client to generate the 4 communitation keys\n",
        "CC_client=array_of_keys[0]\n",
        "IC_client=array_of_keys[1]\n",
        "CS_client=array_of_keys[2]\n",
        "IS_client=array_of_keys[3]\n",
        "print('The encryption key of the client(CC):', CC_client)\n",
        "print('The MAC key of the client (IC):', IC_client)\n",
        "print('The encryption key of the client (CS):', CS_client)\n",
        "print('MAC key of the client (IS):', IS_client)"
      ],
      "metadata": {
        "id": "l7xpzlXRZF1V"
      },
      "execution_count": null,
      "outputs": []
    },
    {
      "cell_type": "code",
      "source": [
        "#Generating 4 communication keys {CC, IC, CS, IS} for server\n",
        "import random\n",
        "from datetime import datetime\n",
        "import numpy as np\n",
        "\n",
        "# Passing the current time as the seed value\n",
        "random.seed(datetime.now())\n",
        "\n",
        "array_of_keys=[]\n",
        "for  i in range(4):\n",
        "  array_of_keys.append(random.randint(0, 10))\n",
        "print(array_of_keys)"
      ],
      "metadata": {
        "id": "M8pDMUsduwYJ"
      },
      "execution_count": null,
      "outputs": []
    },
    {
      "cell_type": "code",
      "source": [
        "#Take the {CC, IC, CS, IS} and convert them into a string to be hashed for the server to generate the 4 communitation keys\n",
        "CC_server=array_of_keys[0]\n",
        "IC_server=array_of_keys[1]\n",
        "CS_server=array_of_keys[2]\n",
        "IS_server=array_of_keys[3]\n",
        "print('The encryption key of the server(CC):', CC_server)\n",
        "print('The MAC key of the server (IC):', IC_server)\n",
        "print('The encryption key of the server (CS):', CS_server)\n",
        "print('MAC key of the server (IS):', IS_server)"
      ],
      "metadata": {
        "id": "HWjiRCsvvHtp"
      },
      "execution_count": null,
      "outputs": []
    },
    {
      "cell_type": "code",
      "source": [
        "PS_client=PS\n",
        "RB_client=RB\n",
        "RS_client=RS"
      ],
      "metadata": {
        "id": "h01ISGWN6aHj"
      },
      "execution_count": null,
      "outputs": []
    },
    {
      "cell_type": "code",
      "source": [
        "#Steps to be able to hash the 4 communication keys of the client\n",
        "CCtobehashed_client=str(CC_client)\n",
        "ICtobehashed_client=str(IC_client)\n",
        "CStobehashed_client=str(CS_client)\n",
        "IStobehashed_client=str(IS_client)\n",
        "RBtobehashed_client=str(RB_client)\n",
        "RStobehashed_client=str(RS_client)\n",
        "PStobehashed_client=str(PS_client)\n",
        "concatination_of_keys_to_be_hashed_client=(f\"{CCtobehashed_client}{ICtobehashed_client}{CStobehashed_client}{IStobehashed_client}{RBtobehashed_client}{RBtobehashed_client}{PStobehashed_client}\")\n",
        "print(concatination_of_keys_to_be_hashed_client)\n"
      ],
      "metadata": {
        "id": "Nk0Hu3CfsuOK"
      },
      "execution_count": null,
      "outputs": []
    },
    {
      "cell_type": "code",
      "source": [
        "PS_server=PS\n",
        "RB_server=RB\n",
        "RS_server=RS"
      ],
      "metadata": {
        "id": "u5AkeUdh7No7"
      },
      "execution_count": null,
      "outputs": []
    },
    {
      "cell_type": "code",
      "source": [
        "#Steps to be able the 4 communication keys of the server\n",
        "CCtobehashed_server=str(CC_server)\n",
        "ICtobehashed_server=str(IC_server)\n",
        "CStobehashed_server=str(CS_server)\n",
        "IStobehashed_server=str(IS_server)\n",
        "#RBtobehashed_server=str(RB_server)\n",
        "#RStobehashed_server=str(RS_server)\n",
        "#PStobehashed_server=str(PS_server)\n",
        "concatination_of_keys_to_be_hashed_server=(f\"{CCtobehashed_client}{ICtobehashed_client}{CStobehashed_client}{IStobehashed_client}\")\n",
        "#{RBtobehashed_server}{RStobehashed_server}{PStobehashed_server}\n",
        "print(concatination_of_keys_to_be_hashed_server)"
      ],
      "metadata": {
        "id": "WKZ3lJvdxfVq"
      },
      "execution_count": null,
      "outputs": []
    },
    {
      "cell_type": "code",
      "source": [
        "#The server sends to the client hash (nonce_client, nonce_server, premaster secret, CS, IS)\n",
        "hashed_communication_key_server = hash(concatination_of_keys_to_be_hashed_server)\n",
        "#hash int not string"
      ],
      "metadata": {
        "id": "zyYdG3bHzAwW"
      },
      "execution_count": null,
      "outputs": []
    },
    {
      "cell_type": "code",
      "source": [
        "#The server sends to the client hash (nonce_client, nonce_server, premaster secret, CS, IS)\n",
        "#import hashlib\n",
        "#hashed_communication_key_server = hashlib.sha256(number__concatination_of_keys_to_be_hashed_server.encode()).hexdigest()"
      ],
      "metadata": {
        "id": "JMnj-hVis332"
      },
      "execution_count": null,
      "outputs": []
    },
    {
      "cell_type": "code",
      "source": [
        "#The server sends to the client hash (CS,IS,CC,CS)\n",
        "import hashlib\n",
        "hashed_communication_key_client = hash(concatination_of_keys_to_be_hashed_client)"
      ],
      "metadata": {
        "id": "-oPfYFj75fi3"
      },
      "execution_count": null,
      "outputs": []
    },
    {
      "cell_type": "code",
      "source": [
        "#The client compares the hashed keys after hashing the ones they have\n",
        "if (hashed_communication_key_client == hashed_communication_key_server):\n",
        "  print('Both are the same')\n",
        "else:\n",
        "  print(\"They are not the same\")"
      ],
      "metadata": {
        "id": "ODp-rPOlyESi"
      },
      "execution_count": null,
      "outputs": []
    }
  ]
}